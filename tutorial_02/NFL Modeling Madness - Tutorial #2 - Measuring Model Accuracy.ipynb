{
 "cells": [
  {
   "cell_type": "markdown",
   "id": "90914196",
   "metadata": {},
   "source": [
    "## NFL Modeling Madness - Tutorial #2 - Measuring Model Accuracy\n",
    "\n",
    "https://docs.google.com/spreadsheets/d/12PTqJyZcUYdIzJ53vto1Fi6tUAXfd7fzL0LdkMzZyq0/edit?usp=sharing\n",
    "\n",
    "Make a copy of the file"
   ]
  },
  {
   "cell_type": "markdown",
   "id": "1e336e0a",
   "metadata": {},
   "source": [
    "Sheets in file\n",
    "\n",
    "* nfl_elo: From 538 https://github.com/fivethirtyeight/data/tree/master/nfl-elo\n",
    "* new elo: https://raw.githubusercontent.com/Neil-Paine-1/NFL-elo-ratings/main/NFL-elo-ratings.csv",
    "* nfl_elo_lookup: Copy of 538 sheet for lookup table purposes\n",
    "* games: From nfldata github. For this analysis we will filter to the 2021 season https://github.com/nflverse/nfldata/tree/master/data\n",
    "* predictions: Predictions from prediction competition, data also from nfldata https://nflgamedata.com/predict/picks.php"
   ]
  },
  {
   "cell_type": "markdown",
   "id": "e62cb3b6",
   "metadata": {},
   "source": [
    "## Merging 538 Data\n",
    "\n",
    "* Create lookup tables for each \n",
    "* Create game_id for each\n",
    "* Use index match"
   ]
  },
  {
   "cell_type": "markdown",
   "id": "88493491",
   "metadata": {},
   "source": [
    "#### Create Fivethirtyeight Teams Lookup table\n",
    "Select all data and press Insert > Create Pivot Table"
   ]
  },
  {
   "cell_type": "markdown",
   "id": "9a5b027a",
   "metadata": {},
   "source": [
    "![title](fivethirtyeight_pivot.png)"
   ]
  },
  {
   "cell_type": "markdown",
   "id": "5c271e40",
   "metadata": {},
   "source": [
    "Put pivot table in a new sheet and rename fivethirtyeight_teams\n",
    "![title](fivethirtyeight_create_new_sheet.png)"
   ]
  },
  {
   "cell_type": "markdown",
   "id": "e6c5d22c",
   "metadata": {},
   "source": [
    "Put team1 into Rows, and season into Filter. Filter for season = 2021\n",
    "![title](fivethirtyeight_team1_season.png)"
   ]
  },
  {
   "cell_type": "markdown",
   "id": "dda3ec34",
   "metadata": {},
   "source": [
    "#### Create games teams lookup table"
   ]
  },
  {
   "cell_type": "markdown",
   "id": "31ddc47d",
   "metadata": {},
   "source": [
    "Put pivot table in a new sheet and rename games_teams\n",
    "![title](games_pivot.png)"
   ]
  },
  {
   "cell_type": "markdown",
   "id": "c59cd342",
   "metadata": {},
   "source": [
    "Put home_team into Rows, and season into Filter. Filter for season = 2021\n",
    "![title](games_hometeam_season.png)"
   ]
  },
  {
   "cell_type": "markdown",
   "id": "e66bc3d5",
   "metadata": {},
   "source": [
    "#### Create Lookup Table"
   ]
  },
  {
   "cell_type": "markdown",
   "id": "0c7433cb",
   "metadata": {},
   "source": [
    "To create lookup table, copy games_teams team_ids over to the pivot table on the fivethirtyeight table. Make sure to fix where does not match (i.e. LA -> LAC)\n",
    "![image](copy_games_teams_to_fivethirtyeight.png)"
   ]
  },
  {
   "cell_type": "markdown",
   "id": "22b839e8",
   "metadata": {},
   "source": [
    "#### Merge games_team_id over to FiveThirtyEight tab\n",
    "Create new column F to store games_teamId for team1. Use Index-Match to merge over team_id from the games table. The formula is: \n",
    "```=INDEX(fivethirtyeight_teams!C:C,MATCH(E2,fivethirtyeight_teams!A:A,0))```\n",
    "![image](team1_team_lookup.png)"
   ]
  },
  {
   "cell_type": "markdown",
   "id": "7c5e083a",
   "metadata": {},
   "source": [
    "Create new column H to store games_teamId for team1. Use Index-Match to merge over team_id from the games table. The formula is: \n",
    "![image](team2_team_lookup.png)"
   ]
  },
  {
   "cell_type": "markdown",
   "id": "3d4e8b0d",
   "metadata": {},
   "source": [
    "#### Create game_id between each game\n",
    "Using concatenation, add season, team1, and team2 team ids with underscore _ in between\n",
    "\n",
    "```B2&\"_\"&F2&\"_\"&H2```\n",
    "\n",
    "![image](create_fivethirtyeight_gameid.png)"
   ]
  },
  {
   "cell_type": "markdown",
   "id": "777f6cc0",
   "metadata": {},
   "source": [
    "Copy the same formula for the games table in table B. Using concatenation, add season, team1, and team2 team ids with underscore _ in between\n",
    "\n",
    "```C6108&\"_\"&I6108&\"_\"&K6108```\n",
    "\n",
    "![image](create_games_fivethirtyeight_gameid.png)"
   ]
  },
  {
   "cell_type": "markdown",
   "id": "4c6baff5",
   "metadata": {},
   "source": [
    "#### Using game_id, merge in FiveThirtyEight home team win probability\n",
    "Using formula below, merge home team win probability to games tab from fivethirtyeight tab\n",
    "\n",
    "```=INDEX(nfl_elo!X:X,MATCH(B5854,nfl_elo!I:I,0))```\n",
    "![image](home_team_prob_538_lookup.png)\n"
   ]
  },
  {
   "cell_type": "markdown",
   "id": "93bb9efc",
   "metadata": {},
   "source": [
    "## Merging recspecs730 data\n",
    "```=INDEX(predictions!C:C,MATCH(A5854&\"recspecs730\",predictions!A:A&\"recspecs730\",0))/100```\n",
    "![image](home_team_prob_recspecs_lookup.png)"
   ]
  },
  {
   "cell_type": "markdown",
   "id": "01ad6b3b",
   "metadata": {},
   "source": [
    "## Convert Moneyline into Probabilities"
   ]
  },
  {
   "cell_type": "markdown",
   "id": "3300bb4a",
   "metadata": {},
   "source": [
    "#### Convert away moneyline\n",
    "```=IF(Y5854>0, 100/(Y5854+100),(-1 * (Y5854)) / ((-1 * Y5854) + 100))```\n",
    "![image](convert_away_moneyline.png)"
   ]
  },
  {
   "cell_type": "markdown",
   "id": "d5f1b83b",
   "metadata": {},
   "source": [
    "#### Convert home moneyline\n",
    "```=IF(Z5854>0, 100/(Z5854+100),(-1 * (Z5854)) / ((-1 * Z5854) + 100))```\n",
    "![image](convert_home_moneyline.png)"
   ]
  },
  {
   "cell_type": "markdown",
   "id": "a6fa6551",
   "metadata": {},
   "source": [
    "#### Remove vig\n",
    "```=AB5854/(AA5854+AB5854)```\n",
    "![image](remove_vig.png)"
   ]
  },
  {
   "cell_type": "markdown",
   "id": "806656a8",
   "metadata": {},
   "source": [
    "## Calculate Evaluation Metrics\n",
    "* Brier Score\n",
    "* Log Loss"
   ]
  },
  {
   "cell_type": "markdown",
   "id": "ea7f76b1",
   "metadata": {},
   "source": [
    "#### Add home_team_win feature \n",
    "```=IF(N5854>0,1,0)```\n",
    "![image](add_home_team_win_feature.png)"
   ]
  },
  {
   "cell_type": "markdown",
   "id": "be18552c",
   "metadata": {},
   "source": [
    "#### Calculate moneyline brier\n",
    "```=(AC5854-AF5854)^2```\n",
    "![image](moneyline_brier.png)"
   ]
  },
  {
   "cell_type": "markdown",
   "id": "db2df9d4",
   "metadata": {},
   "source": [
    "#### Calculate Fivethirtyeight brier\n",
    "```=(AD5854-AF5854)^2```\n",
    "![image](fivethirtyeight_brier_score.png)"
   ]
  },
  {
   "cell_type": "markdown",
   "id": "3391f887",
   "metadata": {},
   "source": [
    "#### Calculate Recspecs brier\n",
    "```=(AE5854-AF5854)^2```\n",
    "![image](recspecs_brier_score.png)"
   ]
  },
  {
   "cell_type": "markdown",
   "id": "4042236b",
   "metadata": {},
   "source": [
    "## Create Final Report\n",
    "* Brier Score\n",
    "* Log Loss"
   ]
  },
  {
   "cell_type": "markdown",
   "id": "5c208d95",
   "metadata": {},
   "source": [
    "### Brier Score\n",
    "![image](brier_score.png)"
   ]
  },
  {
   "cell_type": "markdown",
   "id": "35ebb7ce",
   "metadata": {},
   "source": [
    "### Log Loss Score\n",
    "![image](log_loss.png)"
   ]
  },
  {
   "cell_type": "markdown",
   "id": "15f3900c",
   "metadata": {},
   "source": [
    "#### Select all data and create pivot table \n",
    "![image](select_data_create_pivot_table.png)"
   ]
  },
  {
   "cell_type": "markdown",
   "id": "ad776207",
   "metadata": {},
   "source": [
    "#### Select all data and create pivot table \n",
    "![image](create_pivot_table_with_average_brier.png)"
   ]
  },
  {
   "cell_type": "code",
   "execution_count": null,
   "id": "7e42e5c3",
   "metadata": {},
   "outputs": [],
   "source": []
  }
 ],
 "metadata": {
  "kernelspec": {
   "display_name": "Python 3 (ipykernel)",
   "language": "python",
   "name": "python3"
  },
  "language_info": {
   "codemirror_mode": {
    "name": "ipython",
    "version": 3
   },
   "file_extension": ".py",
   "mimetype": "text/x-python",
   "name": "python",
   "nbconvert_exporter": "python",
   "pygments_lexer": "ipython3",
   "version": "3.8.2"
  }
 },
 "nbformat": 4,
 "nbformat_minor": 5
}
