{
 "cells": [
  {
   "cell_type": "markdown",
   "id": "38534100",
   "metadata": {},
   "source": [
    "## NFL Modeling Madness - Tutorial #1 - Intro to Logistic Regression\n",
    "\n",
    "https://forms.gle/Bcztx15Y49CDeCVu8\n"
   ]
  },
  {
   "cell_type": "markdown",
   "id": "18553850",
   "metadata": {},
   "source": [
    "## Fill out expectations\n",
    "\n",
    "https://docs.google.com/forms/d/e/1FAIpQLScFk2TxaKUl_kf7xa_t5wwPodJkJGyBqOF3ktkXbowh7vSwDw/viewform"
    "\n",
    "#### 2024"
    "\n",
    "https://docs.google.com/spreadsheets/d/1XG09sVfAudxTbF-ZKrbyFe7DKacw5BnWOXQbmAn9uLI/edit?usp=sharing"
    "\n",
    "https://docs.google.com/spreadsheets/d/13gsmzSZZC-i1kP8z9RllTE83W93jPUSD8SXjNr6-Ydw/edit?gid=0#gid=0"
    "\n",
    "https://www.actionnetwork.com/education/remove-juice-vig"
   ]
  },
  {
   "attachments": {},
   "cell_type": "markdown",
   "id": "5ebac2c2",
   "metadata": {},
   "source": [
    "## Lessons in thinking probabilistically\n",
    "\n",
    "```\n",
    "\n",
    "With sports betting now legal in several US states, I might as well give away my number one piece of advice for amateurs looking to gamble:\n",
    "\n",
    "Don’t bet.\n",
    "\n",
    "It’s an easy recommendation. Numbers implied by betting markets are too good, too close to the truth that, when accounting for the vig, it’s nearly impossible to make a long term profit.\n",
    "```\n",
    "\n",
    "![image.png](https://statsbylopez.netlify.app/post/2018-08-22-part-i-randomness-of-regular-season-competition_files/parity.png)\n",
    "\n",
    "https://statsbylopez.netlify.app/post/lessons-hidden-in-sports-betting-markets/"
   ]
  },
  {
   "cell_type": "markdown",
   "id": "72d45a2f",
   "metadata": {},
   "source": [
    "```\n",
    "Both our fans and our critics sometimes look at our probabilistic forecasts as binary predictions. Not only might they not care about the difference between a 60 percent chance and a 70 percent chance, they sometimes treat a 55 percent chance the same way as a 95 percent one.\n",
    "```\n",
    "\n",
    "![image.png](https://fivethirtyeight.com/wp-content/uploads/2019/04/silver-BRAGGING-01-1.png?w=1150)\n",
    "\n",
    "https://fivethirtyeight.com/features/when-we-say-70-percent-it-really-means-70-percent/"
   ]
  },
  {
   "cell_type": "markdown",
   "id": "0e168d72",
   "metadata": {},
   "source": [
    "## What is a logistic regression\n",
    "\n",
    "```\n",
    "Formally, in binary logistic regression there is a single binary dependent variable, coded by an indicator variable, where the two values are labeled \"0\" and \"1\", while the independent variables can each be a binary variable (two classes, coded by an indicator variable) or a continuous variable (any real value). The corresponding probability of the value labeled \"1\" can vary between 0 (certainly the value \"0\") and 1 (certainly the value \"1\"), hence the labeling;[2] the function that converts log-odds to probability is the logistic function,\n",
    "```\n",
    "\n",
    "![Logistic](https://upload.wikimedia.org/wikipedia/commons/thumb/c/cb/Exam_pass_logistic_curve.svg/800px-Exam_pass_logistic_curve.svg.png)\n",
    "\n",
    "https://en.wikipedia.org/wiki/Logistic_regression"
   ]
  },
  {
   "cell_type": "markdown",
   "id": "eb3e958d",
   "metadata": {},
   "source": [
    "## Relationship to Linear Regression"
   ]
  },
  {
   "attachments": {},
   "cell_type": "markdown",
   "id": "8ec43608",
   "metadata": {},
   "source": [
    "#### Logistic Function\n",
    "\n",
    "![image](https://wikimedia.org/api/rest_v1/media/math/render/svg/e376fe69caee24c914fab1360de36900b7bb9c24)\n",
    "\n",
    "#### Linear Regression\n",
    "![image](https://wikimedia.org/api/rest_v1/media/math/render/svg/704b31aa61dfc93d672f15bf02aa6d168be49643)"
   ]
  },
  {
   "cell_type": "markdown",
   "id": "039929ff",
   "metadata": {},
   "source": [
    "## De-vig Vegas\n",
    "\n",
    "https://docs.google.com/spreadsheets/d/13gsmzSZZC-i1kP8z9RllTE83W93jPUSD8SXjNr6-Ydw/edit?usp=sharing"
   ]
  },
  {
   "cell_type": "markdown",
   "id": "894783be",
   "metadata": {},
   "source": [
    "## Final Sheet\n",
    "\n",
    "https://docs.google.com/spreadsheets/d/1dULxAD28btLKD8KSg2x7cN_SjqBxxthcVxcB5ssqA9U/edit?usp=sharing"
   ]
  },
  {
   "cell_type": "code",
   "execution_count": null,
   "id": "64eb781c",
   "metadata": {},
   "outputs": [],
   "source": []
  }
 ],
 "metadata": {
  "kernelspec": {
   "display_name": "Python 3 (ipykernel)",
   "language": "python",
   "name": "python3"
  },
  "language_info": {
   "codemirror_mode": {
    "name": "ipython",
    "version": 3
   },
   "file_extension": ".py",
   "mimetype": "text/x-python",
   "name": "python",
   "nbconvert_exporter": "python",
   "pygments_lexer": "ipython3",
   "version": "3.8.2"
  }
 },
 "nbformat": 4,
 "nbformat_minor": 5
}
