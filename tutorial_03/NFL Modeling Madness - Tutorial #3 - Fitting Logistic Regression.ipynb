{
 "cells": [
  {
   "cell_type": "markdown",
   "id": "9979fb3b",
   "metadata": {},
   "source": [
    "## NFL Modeling Madness - Tutorial #3 - Fitting Logistic Regression\n",
    "\n",
    "\n",
    "Make a copy of the file\n",
    "\n",
    "https://docs.google.com/spreadsheets/d/1zNB7j_nm7kBu3Ad-AAwPaeWI8rJpLho5FFgCrfeiuuA/edit?usp=sharing"
   ]
  },
  {
   "cell_type": "markdown",
   "id": "843dbcdd",
   "metadata": {},
   "source": [
    "## Installing Solver"
   ]
  },
  {
   "cell_type": "markdown",
   "id": "1ca78e57",
   "metadata": {},
   "source": [
    "Navigate to Extensions > Add-ons > Get Add-ons\n",
    "![title](add_ons.png)"
   ]
  },
  {
   "cell_type": "markdown",
   "id": "6421d9f1",
   "metadata": {},
   "source": [
    "Search for and install solver\n",
    "![title](solver.png)"
   ]
  },
  {
   "cell_type": "markdown",
   "id": "08e96700",
   "metadata": {},
   "source": [
    "You should now see solver listed in the list of extensions\n",
    "![title](confirm_solver.png)"
   ]
  },
  {
   "cell_type": "markdown",
   "id": "68173d45",
   "metadata": {},
   "source": [
    "## Create Coefficients and Formulas for solving"
   ]
  },
  {
   "cell_type": "markdown",
   "id": "c903d114",
   "metadata": {},
   "source": [
    "#### The 4 variables used will be all 8 game rolling averages of a teams expected points per possession compared to their opponents\n",
    "* diff_pass_epp_home: Home team's passing epp minus away teams defensive pass epp \n",
    "* diff_pass_epp_away: Away team's passing epp minus home teams defensive pass epp\n",
    "* diff_rush_epp_home: Home team's rushing epp minus away teams defensive rushing epp \n",
    "* diff_rush_epp_away: Away team's rushing epp minus home teams defensive rushing epp "
   ]
  },
  {
   "cell_type": "markdown",
   "id": "92c90fd1",
   "metadata": {},
   "source": [
    "#### The initial coefficients will be set to 0, but we'll include one for each variable, including our intercept\n",
    "![title](coefficients_initial.png)"
   ]
  },
  {
   "cell_type": "markdown",
   "id": "8eff91ff",
   "metadata": {},
   "source": [
    "#### Using the coefficients we'll calculate the multivariate probability using the following formula\n",
    "\n",
    "`=1/(1+EXP(-1*($B$1+($B$2*Q10)+($B$3*R10)+($B$4*S10)+($B$5*T10))))`\n",
    "\n",
    "This is the logistic regression equation written in Excel\n",
    "\n",
    "![image.png](https://wikimedia.org/api/rest_v1/media/math/render/svg/1dc4446600ce7fb020de7295e517ff24f4d18ccc)\n"
   ]
  },
  {
   "cell_type": "markdown",
   "id": "af37a436",
   "metadata": {},
   "source": [
    "#### Next we'll calculate the log likelihood for each value, since our coefficients are set to zero, this will be the same for every row\n",
    "\n",
    "`=(V10*LN(W10))+((1-V10)*(LN(1-W10)))`\n",
    "\n"
   ]
  },
  {
   "cell_type": "markdown",
   "id": "6e634ecd",
   "metadata": {},
   "source": [
    "#### We'll also add the log loss of the implied moneyline for comparison sake using this formula\n",
    "\n",
    "Notice this is the same as the log likelihood multiplied by -1\n",
    "\n",
    "`=((V10*LN(U10))+((1-V10)*(LN(1-U10))))*-1`\n"
   ]
  },
  {
   "cell_type": "markdown",
   "id": "f98a564e",
   "metadata": {},
   "source": [
    "#### With all of these formulas we are now ready to solve, but first lets evaluate the averages of the models\n",
    "\n",
    "\n",
    "The average log loss for the implied moneyline probabilities is ~0.60, whereas the log loss for our logistic regression is 0.693. Because our coefficients are still zero, this represents the log loss for a model that always guesses 50% for each game\n",
    "\n",
    "![title](summary_statistics.png)\n"
   ]
  },
  {
   "cell_type": "markdown",
   "id": "27eed851",
   "metadata": {},
   "source": [
    "## Solve & Test!\n",
    "\n",
    "* User solver to maximize log likelihood\n",
    "* Use coefficients to predict on holdout data (2022)"
   ]
  },
  {
   "cell_type": "markdown",
   "id": "bb46210f",
   "metadata": {},
   "source": [
    "#### Let's solve!\n",
    "\n",
    "Now that we have everything in place, we can open solver. From there the steps are\n",
    "* Set Objective to X6 (or wherever the sum of log likelihood is stored on your sheet)\n",
    "* Set By Changing to B1:B5 (or wherever the coefficient values will be stored)\n",
    "* Press Solve\n",
    "\n",
    "![title](solver_parameters.png)"
   ]
  },
  {
   "cell_type": "markdown",
   "id": "f37d3421",
   "metadata": {},
   "source": [
    "#### Inspect results\n",
    "\n",
    "Now that the solver is done you should see the log likelihood sum maximized\n",
    "\n",
    "![title](solver_results_ll.png)\n",
    "\n",
    "Along with updated coefficients for our features\n",
    "\n",
    "![title](solver_coefficients.png)\n"
   ]
  },
  {
   "cell_type": "markdown",
   "id": "530b64f4",
   "metadata": {},
   "source": [
    "#### To truly understand how our model performs, we'll need to test on our holdout data\n",
    "\n",
    "To do that, we'll use the formula for generating a probability, while using our new coefficients\n",
    "\n",
    "`=1/(1+EXP(-1*(train!$B$1+(train!$B$2*Q3)+(train!$B$3*R3)+(train!$B$4*S3)+(train!$B$5*T3))))`\n",
    "\n"
   ]
  },
  {
   "cell_type": "markdown",
   "id": "d4a030aa",
   "metadata": {},
   "source": [
    "## Ideas for improving\n",
    "* Minimize use of rolling averages early in the season\n",
    "* Incorporate identity of QB\n",
    "* Variable for neutral site games"
   ]
  }
 ],
 "metadata": {
  "kernelspec": {
   "display_name": "Python 3 (ipykernel)",
   "language": "python",
   "name": "python3"
  },
  "language_info": {
   "codemirror_mode": {
    "name": "ipython",
    "version": 3
   },
   "file_extension": ".py",
   "mimetype": "text/x-python",
   "name": "python",
   "nbconvert_exporter": "python",
   "pygments_lexer": "ipython3",
   "version": "3.8.2"
  }
 },
 "nbformat": 4,
 "nbformat_minor": 5
}
